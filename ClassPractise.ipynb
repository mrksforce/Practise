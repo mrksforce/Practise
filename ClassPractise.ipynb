{
 "cells": [
  {
   "cell_type": "markdown",
   "metadata": {},
   "source": [
    "# CLASS and ABSTRACTION practise"
   ]
  },
  {
   "cell_type": "code",
   "execution_count": 30,
   "metadata": {},
   "outputs": [
    {
     "name": "stdout",
     "output_type": "stream",
     "text": [
      "The person Ravi and year of birth is 1980 and 40 MineOursAll years old\n",
      "Ravi\n",
      "1980\n",
      "Ours\n",
      "All\n"
     ]
    }
   ],
   "source": [
    "from datetime import datetime\n",
    "class Person:\n",
    "    def __init__(a,name,yob,private,protected,public):\n",
    "        a.name=name\n",
    "        a.yob=yob\n",
    "        a.__private=private\n",
    "        a._protected=protected\n",
    "        a.public=public\n",
    "        \n",
    "        \n",
    "    def age(a,currentyear):\n",
    "        a.currentage=int(currentyear) - int(a.yob)\n",
    "        \n",
    "        return str(a.currentage)+\" \"+a.__private+a._protected+a.public\n",
    "    \n",
    "    def __str__(a):\n",
    "        return \"The person %s and year of birth is %d and %s years old\" %(a.name,a.yob,a.age(datetime.now().year))\n",
    "\n",
    "anyperson1=Person('Ravi',1980,'Mine','Ours','All')\n",
    "anyperson2=Person('Padmini',1984,'Mine','Ours','All')\n",
    "\n",
    "print(anyperson1)\n",
    "\n",
    "print(anyperson1.name)\n",
    "print(anyperson1.yob)\n",
    "# print(anyperson1.__private) // here private variables cannot be used outside of class\n",
    "print(anyperson1._protected)\n",
    "print(anyperson1.public)\n"
   ]
  },
  {
   "cell_type": "markdown",
   "metadata": {},
   "source": [
    "# CLASS INHERITENCE and METHOD OVERRIDING  / EXTENDING"
   ]
  },
  {
   "cell_type": "code",
   "execution_count": 43,
   "metadata": {},
   "outputs": [
    {
     "name": "stdout",
     "output_type": "stream",
     "text": [
      "The person Sanjay and year of birth is 2012 and 8 MineOursAll years old and the student Id is 123\n"
     ]
    }
   ],
   "source": [
    "class Student(Person):\n",
    "    def __init__(self,sid,*args):\n",
    "        super().__init__(*args)\n",
    "        self.studentid=sid\n",
    "    def __str__(self):\n",
    "        return super().__str__() + \" and the student Id is %s\" %(self.studentid)\n",
    "    \n",
    "Sanjay=Student(123,'Sanjay',2012,'Mine','Ours','All')\n",
    "print(Sanjay)"
   ]
  },
  {
   "cell_type": "markdown",
   "metadata": {},
   "source": [
    "# ENCAPSULATION\n",
    "  to extend a class which consists of wrapping an object with a second one. \n",
    "  Two main reason to use encapsulation:\n",
    "      composition\n",
    "      Dynamic Extension\n",
    "  "
   ]
  },
  {
   "cell_type": "code",
   "execution_count": null,
   "metadata": {},
   "outputs": [],
   "source": [
    "#Composition\n",
    "\n",
    "\n",
    "print(Student.__mro__)\n",
    "\n",
    "\n"
   ]
  }
 ],
 "metadata": {
  "kernelspec": {
   "display_name": "Python 3",
   "language": "python",
   "name": "python3"
  },
  "language_info": {
   "codemirror_mode": {
    "name": "ipython",
    "version": 3
   },
   "file_extension": ".py",
   "mimetype": "text/x-python",
   "name": "python",
   "nbconvert_exporter": "python",
   "pygments_lexer": "ipython3",
   "version": "3.7.6"
  }
 },
 "nbformat": 4,
 "nbformat_minor": 4
}
