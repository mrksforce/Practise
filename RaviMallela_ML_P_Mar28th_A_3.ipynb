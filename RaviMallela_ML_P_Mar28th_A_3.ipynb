{
 "cells": [
  {
   "cell_type": "markdown",
   "metadata": {},
   "source": [
    "A3.1 Write a python program to implement your own myreduce() function which works exactly like Python built in function reduce()"
   ]
  },
  {
   "cell_type": "code",
   "execution_count": 5,
   "metadata": {},
   "outputs": [
    {
     "data": {
      "text/plain": [
       "7251"
      ]
     },
     "execution_count": 5,
     "metadata": {},
     "output_type": "execute_result"
    }
   ],
   "source": [
    "# For reference only this reduce code.\n",
    "from functools import reduce\n",
    "lst =[34,432,434,233,45,4,3,56,6,444,5,5554,True]\n",
    "reduce(lambda a,b: a+b,lst)\n"
   ]
  },
  {
   "cell_type": "code",
   "execution_count": 3,
   "metadata": {},
   "outputs": [
    {
     "name": "stdout",
     "output_type": "stream",
     "text": [
      "7251\n"
     ]
    }
   ],
   "source": [
    "# this is the code for assignment with myreduce function\n",
    "# A3.1 solution 1 - which i am NOT impressed and also not exactly mimicking reduce\n",
    "def myreduce(lst):\n",
    "    x=0\n",
    "    for i in lst:\n",
    "        x=x+i\n",
    "    return x\n",
    "lst1=[34,432,434,233,45,4,3,56,6,444,5,5554,True]\n",
    "print(myreduce(lst1))\n",
    "    \n",
    "\n",
    "    "
   ]
  },
  {
   "cell_type": "code",
   "execution_count": 23,
   "metadata": {},
   "outputs": [
    {
     "name": "stdout",
     "output_type": "stream",
     "text": [
      "Initial list: [34, 432, 434, 233, 45, 4, 3, 56, 6, 444, 5, 5554, True]\n",
      "[466, 434, 233, 45, 4, 3, 56, 6, 444, 5, 5554, True]\n",
      "[900, 233, 45, 4, 3, 56, 6, 444, 5, 5554, True]\n",
      "[1133, 45, 4, 3, 56, 6, 444, 5, 5554, True]\n",
      "[1178, 4, 3, 56, 6, 444, 5, 5554, True]\n",
      "[1182, 3, 56, 6, 444, 5, 5554, True]\n",
      "[1185, 56, 6, 444, 5, 5554, True]\n",
      "[1241, 6, 444, 5, 5554, True]\n",
      "[1247, 444, 5, 5554, True]\n",
      "[1691, 5, 5554, True]\n",
      "[1696, 5554, True]\n",
      "[7250, True]\n",
      "7250\n"
     ]
    }
   ],
   "source": [
    "#  A3.1 solution 2 - I think exactly mimics the reduce function \n",
    "def myreduce(lst):\n",
    "    print('Initial list:',lst)\n",
    "    x=0\n",
    "    for i in lst:\n",
    "        x=lst[0]+lst[1]\n",
    "        lst.pop(0)\n",
    "        lst.pop(0)\n",
    "        lst=[x]+lst\n",
    "        print(lst) #only printing to show the list contents through the logic    \n",
    "    return x\n",
    "lst2=[34,432,434,233,45,4,3,56,6,444,5,5554,True]\n",
    "print(myreduce(lst2)) # here True is not treated as 1 so final value is less by 1"
   ]
  },
  {
   "cell_type": "markdown",
   "metadata": {},
   "source": [
    "A3.2 Write a python program to implement your own myfilter() function which works exactly like python builtin filter() function.\n"
   ]
  },
  {
   "cell_type": "code",
   "execution_count": 18,
   "metadata": {},
   "outputs": [
    {
     "name": "stdout",
     "output_type": "stream",
     "text": [
      "[432, 434, 233, 45, 4, 3, 56, 6, 444, 5, 5554, True]\n",
      "[434, 233, 45, 4, 3, 56, 6, 444, 5, 5554, True]\n"
     ]
    }
   ],
   "source": []
  },
  {
   "cell_type": "code",
   "execution_count": 22,
   "metadata": {},
   "outputs": [
    {
     "name": "stdout",
     "output_type": "stream",
     "text": [
      "[12, 21, 12]\n",
      "{12, 21}\n",
      "[12, 21]\n"
     ]
    }
   ],
   "source": []
  }
 ],
 "metadata": {
  "kernelspec": {
   "display_name": "Python 3",
   "language": "python",
   "name": "python3"
  },
  "language_info": {
   "codemirror_mode": {
    "name": "ipython",
    "version": 3
   },
   "file_extension": ".py",
   "mimetype": "text/x-python",
   "name": "python",
   "nbconvert_exporter": "python",
   "pygments_lexer": "ipython3",
   "version": "3.7.6"
  }
 },
 "nbformat": 4,
 "nbformat_minor": 4
}
