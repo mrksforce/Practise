{
 "cells": [
  {
   "cell_type": "code",
   "execution_count": 4,
   "metadata": {},
   "outputs": [
    {
     "name": "stdout",
     "output_type": "stream",
     "text": [
      "Inside gencubes the Cube of: 0  is : 0\n",
      "Outside gencubes the Cube of: 0  is : 0\n",
      "Inside gencubes the Cube of: 1  is : 1\n",
      "Outside gencubes the Cube of: 1  is : 1\n",
      "Inside gencubes the Cube of: 2  is : 8\n",
      "Outside gencubes the Cube of: 8  is : 8\n",
      "Inside gencubes the Cube of: 3  is : 27\n",
      "Outside gencubes the Cube of: 27  is : 27\n",
      "Inside gencubes the Cube of: 4  is : 64\n",
      "Outside gencubes the Cube of: 64  is : 64\n",
      "Inside gencubes the Cube of: 5  is : 125\n",
      "Outside gencubes the Cube of: 125  is : 125\n",
      "Inside gencubes the Cube of: 6  is : 216\n",
      "Outside gencubes the Cube of: 216  is : 216\n",
      "Inside gencubes the Cube of: 7  is : 343\n",
      "Outside gencubes the Cube of: 343  is : 343\n",
      "Inside gencubes the Cube of: 8  is : 512\n",
      "Outside gencubes the Cube of: 512  is : 512\n",
      "Inside gencubes the Cube of: 9  is : 729\n",
      "Outside gencubes the Cube of: 729  is : 729\n"
     ]
    }
   ],
   "source": [
    "def gencubes(s):\n",
    "    for num in range(s):\n",
    "        cube = num**3\n",
    "        print('Inside gencubes the Cube of:',num,' is :',cube) # able to do here but is there better place to do this?\n",
    "        yield cube\n",
    "    \n",
    "for u in gencubes(10):\n",
    "    print('Outside gencubes the Cube of:',u,' is :',u) # how can i show the number and its cube here."
   ]
  },
  {
   "cell_type": "code",
   "execution_count": null,
   "metadata": {},
   "outputs": [],
   "source": []
  },
  {
   "cell_type": "code",
   "execution_count": null,
   "metadata": {},
   "outputs": [],
   "source": []
  },
  {
   "cell_type": "code",
   "execution_count": null,
   "metadata": {},
   "outputs": [],
   "source": []
  },
  {
   "cell_type": "code",
   "execution_count": null,
   "metadata": {},
   "outputs": [],
   "source": []
  },
  {
   "cell_type": "code",
   "execution_count": null,
   "metadata": {},
   "outputs": [],
   "source": []
  },
  {
   "cell_type": "code",
   "execution_count": null,
   "metadata": {},
   "outputs": [],
   "source": []
  },
  {
   "cell_type": "code",
   "execution_count": null,
   "metadata": {},
   "outputs": [],
   "source": []
  },
  {
   "cell_type": "code",
   "execution_count": null,
   "metadata": {},
   "outputs": [],
   "source": []
  },
  {
   "cell_type": "code",
   "execution_count": null,
   "metadata": {},
   "outputs": [],
   "source": []
  },
  {
   "cell_type": "code",
   "execution_count": null,
   "metadata": {},
   "outputs": [],
   "source": [
    "range(0,1)"
   ]
  }
 ],
 "metadata": {
  "kernelspec": {
   "display_name": "Python 3",
   "language": "python",
   "name": "python3"
  },
  "language_info": {
   "codemirror_mode": {
    "name": "ipython",
    "version": 3
   },
   "file_extension": ".py",
   "mimetype": "text/x-python",
   "name": "python",
   "nbconvert_exporter": "python",
   "pygments_lexer": "ipython3",
   "version": "3.7.6"
  }
 },
 "nbformat": 4,
 "nbformat_minor": 4
}
