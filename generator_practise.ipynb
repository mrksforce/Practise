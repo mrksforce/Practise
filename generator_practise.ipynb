{
 "cells": [
  {
   "cell_type": "code",
   "execution_count": 2,
   "metadata": {},
   "outputs": [
    {
     "name": "stdout",
     "output_type": "stream",
     "text": [
      " Cube of  0  inside gencubes is : 0\n",
      " Cube of  0  outside gencubes is : 0\n",
      " Cube of  1  inside gencubes is : 1\n",
      " Cube of  1  outside gencubes is : 1\n",
      " Cube of  2  inside gencubes is : 8\n",
      " Cube of  8  outside gencubes is : 8\n",
      " Cube of  3  inside gencubes is : 27\n",
      " Cube of  27  outside gencubes is : 27\n",
      " Cube of  4  inside gencubes is : 64\n",
      " Cube of  64  outside gencubes is : 64\n",
      " Cube of  5  inside gencubes is : 125\n",
      " Cube of  125  outside gencubes is : 125\n",
      " Cube of  6  inside gencubes is : 216\n",
      " Cube of  216  outside gencubes is : 216\n",
      " Cube of  7  inside gencubes is : 343\n",
      " Cube of  343  outside gencubes is : 343\n",
      " Cube of  8  inside gencubes is : 512\n",
      " Cube of  512  outside gencubes is : 512\n",
      " Cube of  9  inside gencubes is : 729\n",
      " Cube of  729  outside gencubes is : 729\n"
     ]
    }
   ],
   "source": [
    "def gencubes(s):\n",
    "    for num in range(s):\n",
    "        cube = num**3\n",
    "        print(' Cube of ',num,' inside gencubes is :',cube) # able to do here but is there better place to do this?\n",
    "        yield cube\n",
    "    \n",
    "for u in gencubes(10):\n",
    "    print(' Cube of ',u,' outside gencubes is :',u) # how can i show the number and its cube here."
   ]
  },
  {
   "cell_type": "code",
   "execution_count": null,
   "metadata": {},
   "outputs": [],
   "source": []
  },
  {
   "cell_type": "code",
   "execution_count": null,
   "metadata": {},
   "outputs": [],
   "source": []
  },
  {
   "cell_type": "code",
   "execution_count": null,
   "metadata": {},
   "outputs": [],
   "source": []
  },
  {
   "cell_type": "code",
   "execution_count": null,
   "metadata": {},
   "outputs": [],
   "source": []
  },
  {
   "cell_type": "code",
   "execution_count": null,
   "metadata": {},
   "outputs": [],
   "source": []
  },
  {
   "cell_type": "code",
   "execution_count": null,
   "metadata": {},
   "outputs": [],
   "source": []
  },
  {
   "cell_type": "code",
   "execution_count": null,
   "metadata": {},
   "outputs": [],
   "source": []
  },
  {
   "cell_type": "code",
   "execution_count": null,
   "metadata": {},
   "outputs": [],
   "source": []
  },
  {
   "cell_type": "code",
   "execution_count": null,
   "metadata": {},
   "outputs": [],
   "source": []
  },
  {
   "cell_type": "code",
   "execution_count": null,
   "metadata": {},
   "outputs": [],
   "source": [
    "range(0,1)"
   ]
  }
 ],
 "metadata": {
  "kernelspec": {
   "display_name": "Python 3",
   "language": "python",
   "name": "python3"
  },
  "language_info": {
   "codemirror_mode": {
    "name": "ipython",
    "version": 3
   },
   "file_extension": ".py",
   "mimetype": "text/x-python",
   "name": "python",
   "nbconvert_exporter": "python",
   "pygments_lexer": "ipython3",
   "version": "3.7.6"
  }
 },
 "nbformat": 4,
 "nbformat_minor": 4
}
